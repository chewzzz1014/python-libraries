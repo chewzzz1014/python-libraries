{
 "cells": [
  {
   "cell_type": "markdown",
   "id": "6c8bbe02-66c0-47ab-9cf3-fcac7802f118",
   "metadata": {},
   "source": [
    "## Encoding to JSON (Serialization)\n",
    "- `json.dump()`: Writes to a file-like object\n",
    "- `json.dumps()`: Creates a string"
   ]
  },
  {
   "cell_type": "code",
   "execution_count": 2,
   "id": "f956daf6-762d-4f59-9f51-6f4a146d9b9e",
   "metadata": {},
   "outputs": [],
   "source": [
    "# python dict\n",
    "# to be converted into json\n",
    "movie_dict = {\n",
    "  \"movies\": [\n",
    "    {\n",
    "      \"title\": \"Inception\",\n",
    "      \"director\": \"Christopher Nolan\",\n",
    "      \"year\": 2010\n",
    "    },\n",
    "    {\n",
    "      \"title\": \"The Lord of the Rings: The Fellowship of the Ring\",\n",
    "      \"director\": \"Peter Jackson\",\n",
    "      \"year\": 2001\n",
    "    },\n",
    "    {\n",
    "      \"title\": \"Parasite\",\n",
    "      \"director\": \"Bong Joon Ho\",\n",
    "      \"year\": 2019\n",
    "    }\n",
    "  ]\n",
    "}"
   ]
  },
  {
   "cell_type": "markdown",
   "id": "76c46ee6-3d03-4772-8952-d3ec6a992c24",
   "metadata": {},
   "source": [
    "## json.dump()"
   ]
  },
  {
   "cell_type": "code",
   "execution_count": 3,
   "id": "d2c22b4b-4a12-456d-a23e-c97ad55afdb1",
   "metadata": {},
   "outputs": [],
   "source": [
    "import json\n",
    "\n",
    "with open(\"movies.json\", \"w\") as json_file:\n",
    "    json.dump(movie_dict, json_file)"
   ]
  },
  {
   "cell_type": "markdown",
   "id": "d9cb76ea-c9f7-43d4-a1b3-a7706c6ac254",
   "metadata": {},
   "source": [
    "## json.dumps()"
   ]
  },
  {
   "cell_type": "code",
   "execution_count": 4,
   "id": "8ac60425-0d1b-495a-8216-777b3c6bfb7f",
   "metadata": {},
   "outputs": [
    {
     "name": "stdout",
     "output_type": "stream",
     "text": [
      "{\"movies\": [{\"title\": \"Inception\", \"director\": \"Christopher Nolan\", \"year\": 2010}, {\"title\": \"The Lord of the Rings: The Fellowship of the Ring\", \"director\": \"Peter Jackson\", \"year\": 2001}, {\"title\": \"Parasite\", \"director\": \"Bong Joon Ho\", \"year\": 2019}]}\n"
     ]
    }
   ],
   "source": [
    "json_str = json.dumps(movie_dict)\n",
    "\n",
    "print(json_str)"
   ]
  },
  {
   "cell_type": "code",
   "execution_count": 5,
   "id": "92dd8d81-db30-4db9-9c69-7320081dc970",
   "metadata": {},
   "outputs": [
    {
     "name": "stdout",
     "output_type": "stream",
     "text": [
      "{\n",
      "    \"movies\": [\n",
      "        {\n",
      "            \"title\": \"Inception\",\n",
      "            \"director\": \"Christopher Nolan\",\n",
      "            \"year\": 2010\n",
      "        },\n",
      "        {\n",
      "            \"title\": \"The Lord of the Rings: The Fellowship of the Ring\",\n",
      "            \"director\": \"Peter Jackson\",\n",
      "            \"year\": 2001\n",
      "        },\n",
      "        {\n",
      "            \"title\": \"Parasite\",\n",
      "            \"director\": \"Bong Joon Ho\",\n",
      "            \"year\": 2019\n",
      "        }\n",
      "    ]\n",
      "}\n"
     ]
    }
   ],
   "source": [
    "json_str_1 = json.dumps(movie_dict, indent=4)\n",
    "\n",
    "print(json_str_1)"
   ]
  },
  {
   "cell_type": "markdown",
   "id": "b57ace97-0b90-4be3-bcb7-aa371943b120",
   "metadata": {},
   "source": [
    "## Decoding JSON (Deserialization)\n",
    "- `json.load()`: Deserialize file-like object\n",
    "- `json.loads()`: Deserialize strings"
   ]
  },
  {
   "cell_type": "code",
   "execution_count": 6,
   "id": "149867de-cd59-476d-9d71-20fc522b30a2",
   "metadata": {},
   "outputs": [
    {
     "name": "stdout",
     "output_type": "stream",
     "text": [
      "True\n"
     ]
    }
   ],
   "source": [
    "with open(\"movies.json\", \"r\") as json_file:\n",
    "    movies = json.load(json_file)\n",
    "    \n",
    "print(movies == movie_dict)"
   ]
  },
  {
   "cell_type": "code",
   "execution_count": 7,
   "id": "a3bfe6cd-1489-470a-be95-aa9ee509e5fa",
   "metadata": {},
   "outputs": [
    {
     "name": "stdout",
     "output_type": "stream",
     "text": [
      "True\n"
     ]
    }
   ],
   "source": [
    "print(movie_dict == json.loads(json_str))"
   ]
  },
  {
   "cell_type": "code",
   "execution_count": 8,
   "id": "fab72738-0f52-49c4-ae8f-1522388a39c9",
   "metadata": {},
   "outputs": [
    {
     "name": "stdout",
     "output_type": "stream",
     "text": [
      "True\n"
     ]
    }
   ],
   "source": [
    "print(movie_dict == json.loads(json_str_1))"
   ]
  }
 ],
 "metadata": {
  "kernelspec": {
   "display_name": "Python 3 (ipykernel)",
   "language": "python",
   "name": "python3"
  },
  "language_info": {
   "codemirror_mode": {
    "name": "ipython",
    "version": 3
   },
   "file_extension": ".py",
   "mimetype": "text/x-python",
   "name": "python",
   "nbconvert_exporter": "python",
   "pygments_lexer": "ipython3",
   "version": "3.10.0"
  }
 },
 "nbformat": 4,
 "nbformat_minor": 5
}
