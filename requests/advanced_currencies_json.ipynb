{
 "cells": [
  {
   "cell_type": "code",
   "execution_count": null,
   "id": "0a2d3359-58b0-4e9c-b83f-d7257383bf74",
   "metadata": {},
   "outputs": [],
   "source": [
    "# write your code here!\n",
    "import requests\n",
    "import json\n",
    "\n",
    "def get_path(currency):\n",
    "    return \"http://www.floatrates.com/daily/\"+currency+\".json\"\n",
    "\n",
    "from_currency = input()\n",
    "r = requests.get(get_path(from_currency))\n",
    "# get the currency rate from the inputted currency to any of currencies listed in the json file retrieved\n",
    "currencies_list = r.json()\n",
    "\n",
    "caches = {}\n",
    "if from_currency.lower() == \"usd\":\n",
    "    caches[\"usd\"] = 1\n",
    "    caches[\"eur\"] = float(currencies_list[\"eur\"][\"rate\"])\n",
    "elif from_currency.lower() == \"eur\":\n",
    "    caches[\"usd\"] = float(currencies_list[\"usd\"][\"rate\"])\n",
    "    caches[\"eur\"] = 1\n",
    "\n",
    "while True:\n",
    "    c = input()\n",
    "    if c == \"\":\n",
    "        break\n",
    "    amount = float(input())\n",
    "    print(\"Checking the cache...\")\n",
    "\n",
    "    if c.lower() not in caches:\n",
    "        total = float(currencies_list[c.lower()][\"rate\"]) * amount\n",
    "        print(\"Sorry, but it is not in the cache!\")\n",
    "        print(f\"You received {round(total, 2)} {c}.\")\n",
    "        caches[c.lower()] = float(currencies_list[c.lower()][\"rate\"])\n",
    "    else:\n",
    "        print(\"Oh! It is in the cache!\")\n",
    "        print(f\"You received {round(caches[c]*amount, 2)} {c}.\")\n",
    "\n",
    "\n"
   ]
  }
 ],
 "metadata": {
  "kernelspec": {
   "display_name": "Python 3 (ipykernel)",
   "language": "python",
   "name": "python3"
  },
  "language_info": {
   "codemirror_mode": {
    "name": "ipython",
    "version": 3
   },
   "file_extension": ".py",
   "mimetype": "text/x-python",
   "name": "python",
   "nbconvert_exporter": "python",
   "pygments_lexer": "ipython3",
   "version": "3.10.0"
  }
 },
 "nbformat": 4,
 "nbformat_minor": 5
}
