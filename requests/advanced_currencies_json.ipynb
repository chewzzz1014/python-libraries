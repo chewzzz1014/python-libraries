{
 "cells": [
  {
   "cell_type": "markdown",
   "id": "62e0b594-0027-49a8-abf7-ba3a62fc4537",
   "metadata": {},
   "source": [
    "## Currencies Converter\n",
    "- Given a currency, find its value in another currencies based on json file retrieved from the given link.\n",
    "- By default, the exchangre rate to USD and EUR rates are stored.\n",
    "- Find the user-inputted exchange rate in caches. If it's in cache, just get from the caches else retrieve from the json file.\n",
    "- Repeat until user inputted empty value."
   ]
  },
  {
   "cell_type": "code",
   "execution_count": 4,
   "id": "0a2d3359-58b0-4e9c-b83f-d7257383bf74",
   "metadata": {},
   "outputs": [
    {
     "name": "stdin",
     "output_type": "stream",
     "text": [
      "Enter source currencies:  MYR\n"
     ]
    },
    {
     "name": "stdout",
     "output_type": "stream",
     "text": [
      "----------WELCOME TO CURRENCIES CONVERTER----------\n"
     ]
    },
    {
     "name": "stdin",
     "output_type": "stream",
     "text": [
      "Enter target currencies:  USD\n",
      "Enter amount:  100\n"
     ]
    },
    {
     "name": "stdout",
     "output_type": "stream",
     "text": [
      "Checking the cache...\n",
      "Oh! It is in the cache!\n",
      "You received 22.27 USD.\n",
      "\n"
     ]
    },
    {
     "name": "stdin",
     "output_type": "stream",
     "text": [
      "Enter target currencies:  EUR\n",
      "Enter amount:  100\n"
     ]
    },
    {
     "name": "stdout",
     "output_type": "stream",
     "text": [
      "Checking the cache...\n",
      "Oh! It is in the cache!\n",
      "You received 22.13 EUR.\n",
      "\n"
     ]
    },
    {
     "name": "stdin",
     "output_type": "stream",
     "text": [
      "Enter target currencies:  KRW\n",
      "Enter amount:  100\n"
     ]
    },
    {
     "name": "stdout",
     "output_type": "stream",
     "text": [
      "Checking the cache...\n",
      "Sorry, but it is not in the cache!\n",
      "You received 30688.88 KRW.\n",
      "\n"
     ]
    },
    {
     "name": "stdin",
     "output_type": "stream",
     "text": [
      "Enter target currencies:  JPY\n",
      "Enter amount:  2000\n"
     ]
    },
    {
     "name": "stdout",
     "output_type": "stream",
     "text": [
      "Checking the cache...\n",
      "Sorry, but it is not in the cache!\n",
      "You received 63470.91 JPY.\n",
      "\n"
     ]
    },
    {
     "name": "stdin",
     "output_type": "stream",
     "text": [
      "Enter target currencies:  \n"
     ]
    },
    {
     "name": "stdout",
     "output_type": "stream",
     "text": [
      "----------END----------\n"
     ]
    }
   ],
   "source": [
    "# write your code here!\n",
    "import requests\n",
    "import json\n",
    "\n",
    "# get link directed to the json file \n",
    "def get_path(currency):\n",
    "    return \"http://www.floatrates.com/daily/\"+currency+\".json\"\n",
    "\n",
    "from_currency = input(\"Enter source currencies: \")\n",
    "r = requests.get(get_path(from_currency))\n",
    "# get the exchange rate to any of currencies listed in the json file\n",
    "currencies_list = r.json()\n",
    "\n",
    "# make our caches: store USD and EUR exchange rate by default\n",
    "caches = {}\n",
    "if from_currency.lower() == \"usd\":\n",
    "    # usd -> usd, no changes in rate\n",
    "    caches[\"usd\"] = 1\n",
    "    caches[\"eur\"] = float(currencies_list[\"eur\"][\"rate\"])\n",
    "elif from_currency.lower() == \"eur\":\n",
    "    caches[\"usd\"] = float(currencies_list[\"usd\"][\"rate\"])\n",
    "    caches[\"eur\"] = 1\n",
    "else:\n",
    "    caches[\"usd\"] = float(currencies_list[\"usd\"][\"rate\"])\n",
    "    caches[\"eur\"] = float(currencies_list[\"eur\"][\"rate\"])\n",
    "\n",
    "    \n",
    "# repeatedly exchange into another currencies\n",
    "to_cont = True\n",
    "\n",
    "print(\"----------WELCOME TO CURRENCIES CONVERTER----------\")\n",
    "while to_cont:\n",
    "    c = input(\"Enter target currencies: \")\n",
    "\n",
    "    if c != \"\":\n",
    "        amount = float(input(\"Enter amount: \"))\n",
    "        print(\"Checking the cache...\")\n",
    "\n",
    "        if c.lower() not in caches:\n",
    "            total = float(currencies_list[c.lower()][\"rate\"]) * amount\n",
    "            print(\"Sorry, but it is not in the cache!\")\n",
    "            print(f\"You received {round(total, 2)} {c.upper()}.\")\n",
    "            caches[c.lower()] = float(currencies_list[c.lower()][\"rate\"])\n",
    "            print()\n",
    "        else:\n",
    "            print(\"Oh! It is in the cache!\")\n",
    "            print(f\"You received {round(caches[c.lower()]*amount, 2)} {c.upper()}.\")\n",
    "            print()\n",
    "    else:\n",
    "        to_cont = False\n",
    "        \n",
    "print(\"----------END----------\")"
   ]
  }
 ],
 "metadata": {
  "kernelspec": {
   "display_name": "Python 3 (ipykernel)",
   "language": "python",
   "name": "python3"
  },
  "language_info": {
   "codemirror_mode": {
    "name": "ipython",
    "version": 3
   },
   "file_extension": ".py",
   "mimetype": "text/x-python",
   "name": "python",
   "nbconvert_exporter": "python",
   "pygments_lexer": "ipython3",
   "version": "3.10.0"
  }
 },
 "nbformat": 4,
 "nbformat_minor": 5
}
