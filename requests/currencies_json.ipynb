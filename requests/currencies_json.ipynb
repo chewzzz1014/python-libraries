{
 "cells": [
  {
   "cell_type": "markdown",
   "id": "9a5055fc-acde-4531-8c69-fcd1b252fc92",
   "metadata": {},
   "source": [
    "Given any currency, find its rate in USED and EUR,"
   ]
  },
  {
   "cell_type": "code",
   "execution_count": 2,
   "id": "a26cc6e0-f53e-40b1-b3f0-9e41b95d8bf3",
   "metadata": {},
   "outputs": [
    {
     "name": "stdin",
     "output_type": "stream",
     "text": [
      " NZD\n"
     ]
    },
    {
     "name": "stdout",
     "output_type": "stream",
     "text": [
      "{'code': 'USD', 'alphaCode': 'USD', 'numericCode': '840', 'name': 'U.S. Dollar', 'rate': 0.61047999531983, 'date': 'Sun, 11 Sep 2022 11:55:01 GMT', 'inverseRate': 1.6380553133049}\n",
      "{'code': 'EUR', 'alphaCode': 'EUR', 'numericCode': '978', 'name': 'Euro', 'rate': 0.60673330953858, 'date': 'Sun, 11 Sep 2022 11:55:01 GMT', 'inverseRate': 1.6481705953486}\n"
     ]
    }
   ],
   "source": [
    "import requests\n",
    "import json\n",
    "\n",
    "def get_path(currency):\n",
    "    return \"http://www.floatrates.com/daily/\"+currency+\".json\"\n",
    "\n",
    "user_input = input()\n",
    "r = requests.get(get_path(user_input))\n",
    "\n",
    "currencies = r.json()\n",
    "\n",
    "print(currencies[\"usd\"])\n",
    "print(currencies[\"eur\"])"
   ]
  }
 ],
 "metadata": {
  "kernelspec": {
   "display_name": "Python 3 (ipykernel)",
   "language": "python",
   "name": "python3"
  },
  "language_info": {
   "codemirror_mode": {
    "name": "ipython",
    "version": 3
   },
   "file_extension": ".py",
   "mimetype": "text/x-python",
   "name": "python",
   "nbconvert_exporter": "python",
   "pygments_lexer": "ipython3",
   "version": "3.10.0"
  }
 },
 "nbformat": 4,
 "nbformat_minor": 5
}
