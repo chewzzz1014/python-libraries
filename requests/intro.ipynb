{
 "cells": [
  {
   "cell_type": "code",
   "execution_count": 2,
   "id": "e476385e-fa62-4265-b74d-4751271eac1e",
   "metadata": {},
   "outputs": [],
   "source": [
    "import requests"
   ]
  },
  {
   "cell_type": "markdown",
   "id": "3495ab57-b01d-4fb8-ac91-24e9bd87838f",
   "metadata": {},
   "source": [
    "## GET Request"
   ]
  },
  {
   "cell_type": "code",
   "execution_count": 4,
   "id": "a92b16f2-7251-4188-bc20-1c67648a1f83",
   "metadata": {},
   "outputs": [
    {
     "name": "stdout",
     "output_type": "stream",
     "text": [
      "<Response [200]>\n"
     ]
    }
   ],
   "source": [
    "# make GET request\n",
    "\n",
    "path = \"https://requests.readthedocs.io/en/master/\"\n",
    "r = requests.get(path)\n",
    "\n",
    "print(r)"
   ]
  },
  {
   "cell_type": "markdown",
   "id": "ba1c85d4-1359-4c1b-8dd0-31ab38ddf6a3",
   "metadata": {},
   "source": [
    "200 is a standard HTTP code indicating that the request succeeded, while code 404 means that the resource you were looking for was not found."
   ]
  },
  {
   "cell_type": "markdown",
   "id": "1b51fa96-0fe1-4124-9ee4-73607241edc3",
   "metadata": {},
   "source": [
    "## Status Code"
   ]
  },
  {
   "cell_type": "code",
   "execution_count": 5,
   "id": "756e464f-97e8-41f7-b278-94c5f1baea23",
   "metadata": {},
   "outputs": [
    {
     "name": "stdout",
     "output_type": "stream",
     "text": [
      "200\n"
     ]
    }
   ],
   "source": [
    "# print response code\n",
    "print(r.status_code)"
   ]
  },
  {
   "cell_type": "code",
   "execution_count": 6,
   "id": "13ccbf25-b90a-4701-88b4-00fa82d6020c",
   "metadata": {},
   "outputs": [
    {
     "name": "stdout",
     "output_type": "stream",
     "text": [
      "Success\n"
     ]
    }
   ],
   "source": [
    "# evaluate to True if status code starts with 2 (request accepted) or 3 (redirection)\n",
    "if r:\n",
    "    print(\"Success\")\n",
    "else:\n",
    "    print(\"Fail\")"
   ]
  },
  {
   "cell_type": "markdown",
   "id": "b0e320c0-72c4-4ad4-80c6-6ceafbbcc25c",
   "metadata": {},
   "source": [
    "## Content of Server Response"
   ]
  },
  {
   "cell_type": "code",
   "execution_count": 7,
   "id": "209ffe25-6211-45fb-9449-da25611428ce",
   "metadata": {},
   "outputs": [
    {
     "data": {
      "text/plain": [
       "'\\n<!DOCTYPE html>\\n\\n<html lang=\"en\">\\n  <head>\\n    <meta charset=\"utf-8\" />\\n    <meta name=\"viewport\" content=\"width=device-width, initial-scale=1.0\" /><meta name=\"generator\" content=\"Docutils 0.17.1: http://docutils.sourceforge.net/\" />\\n\\n    <title>Requests: HTTP for Humansâ\\x84¢ &#8212; Requests 2.28.1 documentation</title>\\n    <link rel=\"stylesheet\" type=\"text/css\" href=\"_static/pygments.css\" />\\n    <link rel=\"stylesheet\" type=\"text/css\" href=\"_static/alabaster.css\" />\\n    <link rel=\"stylesheet\" type=\"text/css\" href=\"/_/static/css/badge_only.css\" />\\n    <script data-url_root=\"#\" id=\"documentation_options\" src=\"_static/documentation_options.js\"></script>\\n    <script src=\"_static/jquery.js\"></script>\\n    <script src=\"_static/underscore.js\"></script>\\n    <script src=\"_static/doctools.js\"></script>\\n    <script async=\"async\" src=\"/_/static/javascript/readthedocs-doc-embed.js\"></script>\\n    <link rel=\"canonical\" href=\"https://requests.readthedocs.io/en/latest/index.html\" />\\n    <link rel=\"index\" title=\"Index\" href=\"genindex/\" />\\n    <link rel=\"search\" title=\"Search\" href=\"search/\" />\\n    <link rel=\"next\" title=\"Installation of Requests\" href=\"user/install/\" />\\n   \\n  <link rel=\"stylesheet\" href=\"_static/custom.css\" type=\"text/css\" />\\n  \\n  \\n  <meta name=\"viewport\" content=\"width=device-width, initial-scale=0.9, maximum-scale=0.9\" />\\n\\n  \\n<!-- RTD Extra Head -->\\n\\n<link rel=\"stylesheet\" href=\"/_/static/css/readthedocs-doc-embed.css\" type=\"text/css\" />\\n\\n<script type=\"application/json\" id=\"READTHEDOCS_DATA\">{\"ad_free\": false, \"api_host\": \"https://readthedocs.org\", \"build_date\": \"2022-09-09T19:11:02Z\", \"builder\": \"sphinx\", \"canonical_url\": null, \"commit\": \"7104ad4b\", \"docroot\": \"/docs/\", \"features\": {\"docsearch_disabled\": false}, \"global_analytics_code\": \"UA-17997319-1\", \"language\": \"en\", \"page\": \"index\", \"programming_language\": \"py\", \"project\": \"requests\", \"proxied_api_host\": \"/_\", \"source_suffix\": \".rst\", \"subprojects\": {\"requests-docs-cn\": \"https://requests.readthedocs.io/projects/cn/zh_CN/latest/\", \"requests-docs-de\": \"https://requests.readthedocs.io/projects/de/de/latest/\", \"requests-docs-es\": \"https://requests.readthedocs.io/projects/es/es/latest/\", \"requests-docs-it\": \"https://requests.readthedocs.io/projects/it/it/latest/\", \"requests-docs-pl\": \"https://requests.readthedocs.io/projects/pl/pl/latest/\", \"requests-docs-pt\": \"https://requests.readthedocs.io/projects/pt/pt_BR/latest/\", \"requests-html\": \"https://requests.readthedocs.io/projects/requests-html/en/latest/\"}, \"theme\": \"alabaster\", \"user_analytics_code\": \"\", \"version\": \"latest\"}</script>\\n\\n<!--\\nUsing this variable directly instead of using `JSON.parse` is deprecated.\\nThe READTHEDOCS_DATA global variable will be removed in the future.\\n-->\\n<script type=\"text/javascript\">\\nREADTHEDOCS_DATA = JSON.parse(document.getElementById(\\'READTHEDOCS_DATA\\').innerHTML);\\n</script>\\n\\n<script type=\"text/javascript\" src=\"/_/static/javascript/readthedocs-analytics.js\" async=\"async\"></script>\\n\\n<!-- end RTD <extrahead> -->\\n</head><body>\\n  \\n\\n    <div class=\"document\">\\n      <div class=\"documentwrapper\">\\n        <div class=\"bodywrapper\">\\n          \\n\\n          <div class=\"body\" role=\"main\">\\n            \\n  <section id=\"requests-http-for-humans\">\\n<h1>Requests: HTTP for Humansâ\\x84¢<a class=\"headerlink\" href=\"#requests-http-for-humans\" title=\"Permalink to this headline\">Â¶</a></h1>\\n<p>Release v2.28.1. (<a class=\"reference internal\" href=\"user/install/#install\"><span class=\"std std-ref\">Installation</span></a>)</p>\\n<a class=\"reference external image-reference\" href=\"https://pepy.tech/project/requests\"><img alt=\"Requests Downloads Per Month Badge\" src=\"https://pepy.tech/badge/requests/month\" /></a>\\n<a class=\"reference external image-reference\" href=\"https://pypi.org/project/requests/\"><img alt=\"License Badge\" src=\"https://img.shields.io/pypi/l/requests.svg\" /></a>\\n<a class=\"reference external image-reference\" href=\"https://pypi.org/project/requests/\"><img alt=\"Wheel Support Badge\" src=\"https://img.shields.io/pypi/wheel/requests.svg\" /></a>\\n<a class=\"reference external image-reference\" href=\"https://pypi.org/project/requests/\"><img alt=\"Python Version Support Badge\" src=\"https://img.shields.io/pypi/pyversions/requests.svg\" /></a>\\n<p><strong>Requests</strong> is an elegant and simple HTTP library for Python, built for human beings.</p>\\n<hr class=\"docutils\" />\\n<p><strong>Behold, the power of Requests</strong>:</p>\\n<div class=\"highlight-default notranslate\"><div class=\"highlight\"><pre><span></span><span class=\"gp\">&gt;&gt;&gt; </span><span class=\"n\">r</span> <span class=\"o\">=</span> <span class=\"n\">requests</span><span class=\"o\">.</span><span class=\"n\">get</span><span class=\"p\">(</span><span class=\"s1\">&#39;https://api.github.com/user&#39;</span><span class=\"p\">,</span> <span class=\"n\">auth</span><span class=\"o\">=</span><span class=\"p\">(</span><span class=\"s1\">&#39;user&#39;</span><span class=\"p\">,</span> <span class=\"s1\">&#39;pass&#39;</span><span class=\"p\">))</span>\\n<span class=\"gp\">&gt;&gt;&gt; </span><span class=\"n\">r</span><span class=\"o\">.</span><span class=\"n\">status_code</span>\\n<span class=\"go\">200</span>\\n<span class=\"gp\">&gt;&gt;&gt; </span><span class=\"n\">r</span><span class=\"o\">.</span><span class=\"n\">headers</span><span class=\"p\">[</span><span class=\"s1\">&#39;content-type&#39;</span><span class=\"p\">]</span>\\n<span class=\"go\">&#39;application/json; charset=utf8&#39;</span>\\n<span class=\"gp\">&gt;&gt;&gt; </span><span class=\"n\">r</span><span class=\"o\">.</span><span class=\"n\">encoding</span>\\n<span class=\"go\">&#39;utf-8&#39;</span>\\n<span class=\"gp\">&gt;&gt;&gt; </span><span class=\"n\">r</span><span class=\"o\">.</span><span class=\"n\">text</span>\\n<span class=\"go\">&#39;{&quot;type&quot;:&quot;User&quot;...&#39;</span>\\n<span class=\"gp\">&gt;&gt;&gt; </span><span class=\"n\">r</span><span class=\"o\">.</span><span class=\"n\">json</span><span class=\"p\">()</span>\\n<span class=\"go\">{&#39;private_gists&#39;: 419, &#39;total_private_repos&#39;: 77, ...}</span>\\n</pre></div>\\n</div>\\n<p>See <a class=\"reference external\" href=\"https://gist.github.com/973705\">similar code, sans Requests</a>.</p>\\n<p><strong>Requests</strong> allows you to send HTTP/1.1 requests extremely easily.\\nThereâ\\x80\\x99s no need to manually add query strings to your\\nURLs, or to form-encode your POST data. Keep-alive and HTTP connection pooling\\nare 100% automatic, thanks to <a class=\"reference external\" href=\"https://github.com/urllib3/urllib3\">urllib3</a>.</p>\\n<section id=\"beloved-features\">\\n<h2>Beloved Features<a class=\"headerlink\" href=\"#beloved-features\" title=\"Permalink to this headline\">Â¶</a></h2>\\n<p>Requests is ready for todayâ\\x80\\x99s web.</p>\\n<ul class=\"simple\">\\n<li><p>Keep-Alive &amp; Connection Pooling</p></li>\\n<li><p>International Domains and URLs</p></li>\\n<li><p>Sessions with Cookie Persistence</p></li>\\n<li><p>Browser-style SSL Verification</p></li>\\n<li><p>Automatic Content Decoding</p></li>\\n<li><p>Basic/Digest Authentication</p></li>\\n<li><p>Elegant Key/Value Cookies</p></li>\\n<li><p>Automatic Decompression</p></li>\\n<li><p>Unicode Response Bodies</p></li>\\n<li><p>HTTP(S) Proxy Support</p></li>\\n<li><p>Multipart File Uploads</p></li>\\n<li><p>Streaming Downloads</p></li>\\n<li><p>Connection Timeouts</p></li>\\n<li><p>Chunked Requests</p></li>\\n<li><p><code class=\"docutils literal notranslate\"><span class=\"pre\">.netrc</span></code> Support</p></li>\\n</ul>\\n<p>Requests officially supports Python 3.7+, and runs great on PyPy.</p>\\n</section>\\n<section id=\"the-user-guide\">\\n<h2>The User Guide<a class=\"headerlink\" href=\"#the-user-guide\" title=\"Permalink to this headline\">Â¶</a></h2>\\n<p>This part of the documentation, which is mostly prose, begins with some\\nbackground information about Requests, then focuses on step-by-step\\ninstructions for getting the most out of Requests.</p>\\n<div class=\"toctree-wrapper compound\">\\n<ul>\\n<li class=\"toctree-l1\"><a class=\"reference internal\" href=\"user/install/\">Installation of Requests</a><ul>\\n<li class=\"toctree-l2\"><a class=\"reference internal\" href=\"user/install/#python-m-pip-install-requests\">$ python -m pip install requests</a></li>\\n<li class=\"toctree-l2\"><a class=\"reference internal\" href=\"user/install/#get-the-source-code\">Get the Source Code</a></li>\\n</ul>\\n</li>\\n<li class=\"toctree-l1\"><a class=\"reference internal\" href=\"user/quickstart/\">Quickstart</a><ul>\\n<li class=\"toctree-l2\"><a class=\"reference internal\" href=\"user/quickstart/#make-a-request\">Make a Request</a></li>\\n<li class=\"toctree-l2\"><a class=\"reference internal\" href=\"user/quickstart/#passing-parameters-in-urls\">Passing Parameters In URLs</a></li>\\n<li class=\"toctree-l2\"><a class=\"reference internal\" href=\"user/quickstart/#response-content\">Response Content</a></li>\\n<li class=\"toctree-l2\"><a class=\"reference internal\" href=\"user/quickstart/#binary-response-content\">Binary Response Content</a></li>\\n<li class=\"toctree-l2\"><a class=\"reference internal\" href=\"user/quickstart/#json-response-content\">JSON Response Content</a></li>\\n<li class=\"toctree-l2\"><a class=\"reference internal\" href=\"user/quickstart/#raw-response-content\">Raw Response Content</a></li>\\n<li class=\"toctree-l2\"><a class=\"reference internal\" href=\"user/quickstart/#custom-headers\">Custom Headers</a></li>\\n<li class=\"toctree-l2\"><a class=\"reference internal\" href=\"user/quickstart/#more-complicated-post-requests\">More complicated POST requests</a></li>\\n<li class=\"toctree-l2\"><a class=\"reference internal\" href=\"user/quickstart/#post-a-multipart-encoded-file\">POST a Multipart-Encoded File</a></li>\\n<li class=\"toctree-l2\"><a class=\"reference internal\" href=\"user/quickstart/#response-status-codes\">Response Status Codes</a></li>\\n<li class=\"toctree-l2\"><a class=\"reference internal\" href=\"user/quickstart/#response-headers\">Response Headers</a></li>\\n<li class=\"toctree-l2\"><a class=\"reference internal\" href=\"user/quickstart/#cookies\">Cookies</a></li>\\n<li class=\"toctree-l2\"><a class=\"reference internal\" href=\"user/quickstart/#redirection-and-history\">Redirection and History</a></li>\\n<li class=\"toctree-l2\"><a class=\"reference internal\" href=\"user/quickstart/#timeouts\">Timeouts</a></li>\\n<li class=\"toctree-l2\"><a class=\"reference internal\" href=\"user/quickstart/#errors-and-exceptions\">Errors and Exceptions</a></li>\\n</ul>\\n</li>\\n<li class=\"toctree-l1\"><a class=\"reference internal\" href=\"user/advanced/\">Advanced Usage</a><ul>\\n<li class=\"toctree-l2\"><a class=\"reference internal\" href=\"user/advanced/#session-objects\">Session Objects</a></li>\\n<li class=\"toctree-l2\"><a class=\"reference internal\" href=\"user/advanced/#request-and-response-objects\">Request and Response Objects</a></li>\\n<li class=\"toctree-l2\"><a class=\"reference internal\" href=\"user/advanced/#prepared-requests\">Prepared Requests</a></li>\\n<li class=\"toctree-l2\"><a class=\"reference internal\" href=\"user/advanced/#ssl-cert-verification\">SSL Cert Verification</a></li>\\n<li class=\"toctree-l2\"><a class=\"reference internal\" href=\"user/advanced/#client-side-certificates\">Client Side Certificates</a></li>\\n<li class=\"toctree-l2\"><a class=\"reference internal\" href=\"user/advanced/#ca-certificates\">CA Certificates</a></li>\\n<li class=\"toctree-l2\"><a class=\"reference internal\" href=\"user/advanced/#body-content-workflow\">Body Content Workflow</a></li>\\n<li class=\"toctree-l2\"><a class=\"reference internal\" href=\"user/advanced/#keep-alive\">Keep-Alive</a></li>\\n<li class=\"toctree-l2\"><a class=\"reference internal\" href=\"user/advanced/#streaming-uploads\">Streaming Uploads</a></li>\\n<li class=\"toctree-l2\"><a class=\"reference internal\" href=\"user/advanced/#chunk-encoded-requests\">Chunk-Encoded Requests</a></li>\\n<li class=\"toctree-l2\"><a class=\"reference internal\" href=\"user/advanced/#post-multiple-multipart-encoded-files\">POST Multiple Multipart-Encoded Files</a></li>\\n<li class=\"toctree-l2\"><a class=\"reference internal\" href=\"user/advanced/#event-hooks\">Event Hooks</a></li>\\n<li class=\"toctree-l2\"><a class=\"reference internal\" href=\"user/advanced/#custom-authentication\">Custom Authentication</a></li>\\n<li class=\"toctree-l2\"><a class=\"reference internal\" href=\"user/advanced/#streaming-requests\">Streaming Requests</a></li>\\n<li class=\"toctree-l2\"><a class=\"reference internal\" href=\"user/advanced/#proxies\">Proxies</a></li>\\n<li class=\"toctree-l2\"><a class=\"reference internal\" href=\"user/advanced/#compliance\">Compliance</a></li>\\n<li class=\"toctree-l2\"><a class=\"reference internal\" href=\"user/advanced/#http-verbs\">HTTP Verbs</a></li>\\n<li class=\"toctree-l2\"><a class=\"reference internal\" href=\"user/advanced/#custom-verbs\">Custom Verbs</a></li>\\n<li class=\"toctree-l2\"><a class=\"reference internal\" href=\"user/advanced/#link-headers\">Link Headers</a></li>\\n<li class=\"toctree-l2\"><a class=\"reference internal\" href=\"user/advanced/#transport-adapters\">Transport Adapters</a></li>\\n<li class=\"toctree-l2\"><a class=\"reference internal\" href=\"user/advanced/#blocking-or-non-blocking\">Blocking Or Non-Blocking?</a></li>\\n<li class=\"toctree-l2\"><a class=\"reference internal\" href=\"user/advanced/#header-ordering\">Header Ordering</a></li>\\n<li class=\"toctree-l2\"><a class=\"reference internal\" href=\"user/advanced/#timeouts\">Timeouts</a></li>\\n</ul>\\n</li>\\n<li class=\"toctree-l1\"><a class=\"reference internal\" href=\"user/authentication/\">Authentication</a><ul>\\n<li class=\"toctree-l2\"><a class=\"reference internal\" href=\"user/authentication/#basic-authentication\">Basic Authentication</a></li>\\n<li class=\"toctree-l2\"><a class=\"reference internal\" href=\"user/authentication/#digest-authentication\">Digest Authentication</a></li>\\n<li class=\"toctree-l2\"><a class=\"reference internal\" href=\"user/authentication/#oauth-1-authentication\">OAuth 1 Authentication</a></li>\\n<li class=\"toctree-l2\"><a class=\"reference internal\" href=\"user/authentication/#oauth-2-and-openid-connect-authentication\">OAuth 2 and OpenID Connect Authentication</a></li>\\n<li class=\"toctree-l2\"><a class=\"reference internal\" href=\"user/authentication/#other-authentication\">Other Authentication</a></li>\\n<li class=\"toctree-l2\"><a class=\"reference internal\" href=\"user/authentication/#new-forms-of-authentication\">New Forms of Authentication</a></li>\\n</ul>\\n</li>\\n</ul>\\n</div>\\n</section>\\n<section id=\"the-community-guide\">\\n<h2>The Community Guide<a class=\"headerlink\" href=\"#the-community-guide\" title=\"Permalink to this headline\">Â¶</a></h2>\\n<p>This part of the documentation, which is mostly prose, details the\\nRequests ecosystem and community.</p>\\n<div class=\"toctree-wrapper compound\">\\n<ul>\\n<li class=\"toctree-l1\"><a class=\"reference internal\" href=\"community/recommended/\">Recommended Packages and Extensions</a><ul>\\n<li class=\"toctree-l2\"><a class=\"reference internal\" href=\"community/recommended/#certifi-ca-bundle\">Certifi CA Bundle</a></li>\\n<li class=\"toctree-l2\"><a class=\"reference internal\" href=\"community/recommended/#cachecontrol\">CacheControl</a></li>\\n<li class=\"toctree-l2\"><a class=\"reference internal\" href=\"community/recommended/#requests-toolbelt\">Requests-Toolbelt</a></li>\\n<li class=\"toctree-l2\"><a class=\"reference internal\" href=\"community/recommended/#requests-threads\">Requests-Threads</a></li>\\n<li class=\"toctree-l2\"><a class=\"reference internal\" href=\"community/recommended/#requests-oauthlib\">Requests-OAuthlib</a></li>\\n<li class=\"toctree-l2\"><a class=\"reference internal\" href=\"community/recommended/#betamax\">Betamax</a></li>\\n</ul>\\n</li>\\n<li class=\"toctree-l1\"><a class=\"reference internal\" href=\"community/faq/\">Frequently Asked Questions</a><ul>\\n<li class=\"toctree-l2\"><a class=\"reference internal\" href=\"community/faq/#encoded-data\">Encoded Data?</a></li>\\n<li class=\"toctree-l2\"><a class=\"reference internal\" href=\"community/faq/#custom-user-agents\">Custom User-Agents?</a></li>\\n<li class=\"toctree-l2\"><a class=\"reference internal\" href=\"community/faq/#why-not-httplib2\">Why not Httplib2?</a></li>\\n<li class=\"toctree-l2\"><a class=\"reference internal\" href=\"community/faq/#python-3-support\">Python 3 Support?</a></li>\\n<li class=\"toctree-l2\"><a class=\"reference internal\" href=\"community/faq/#python-2-support\">Python 2 Support?</a></li>\\n<li class=\"toctree-l2\"><a class=\"reference internal\" href=\"community/faq/#what-are-hostname-doesn-t-match-errors\">What are â\\x80\\x9chostname doesnâ\\x80\\x99t matchâ\\x80\\x9d errors?</a></li>\\n</ul>\\n</li>\\n<li class=\"toctree-l1\"><a class=\"reference internal\" href=\"community/out-there/\">Integrations</a><ul>\\n<li class=\"toctree-l2\"><a class=\"reference internal\" href=\"community/out-there/#python-for-ios\">Python for iOS</a></li>\\n</ul>\\n</li>\\n<li class=\"toctree-l1\"><a class=\"reference internal\" href=\"community/out-there/#articles-talks\">Articles &amp; Talks</a></li>\\n<li class=\"toctree-l1\"><a class=\"reference internal\" href=\"community/support/\">Support</a><ul>\\n<li class=\"toctree-l2\"><a class=\"reference internal\" href=\"community/support/#stack-overflow\">Stack Overflow</a></li>\\n<li class=\"toctree-l2\"><a class=\"reference internal\" href=\"community/support/#file-an-issue\">File an Issue</a></li>\\n<li class=\"toctree-l2\"><a class=\"reference internal\" href=\"community/support/#send-a-tweet\">Send a Tweet</a></li>\\n</ul>\\n</li>\\n<li class=\"toctree-l1\"><a class=\"reference internal\" href=\"community/vulnerabilities/\">Vulnerability Disclosure</a><ul>\\n<li class=\"toctree-l2\"><a class=\"reference internal\" href=\"community/vulnerabilities/#process\">Process</a></li>\\n<li class=\"toctree-l2\"><a class=\"reference internal\" href=\"community/vulnerabilities/#previous-cves\">Previous CVEs</a></li>\\n</ul>\\n</li>\\n<li class=\"toctree-l1\"><a class=\"reference internal\" href=\"community/release-process/\">Release Process and Rules</a><ul>\\n<li class=\"toctree-l2\"><a class=\"reference internal\" href=\"community/release-process/#major-releases\">Major Releases</a></li>\\n<li class=\"toctree-l2\"><a class=\"reference internal\" href=\"community/release-process/#minor-releases\">Minor Releases</a></li>\\n<li class=\"toctree-l2\"><a class=\"reference internal\" href=\"community/release-process/#hotfix-releases\">Hotfix Releases</a></li>\\n<li class=\"toctree-l2\"><a class=\"reference internal\" href=\"community/release-process/#reasoning\">Reasoning</a></li>\\n</ul>\\n</li>\\n</ul>\\n</div>\\n<div class=\"toctree-wrapper compound\">\\n<ul>\\n<li class=\"toctree-l1\"><a class=\"reference internal\" href=\"community/updates/\">Community Updates</a></li>\\n<li class=\"toctree-l1\"><a class=\"reference internal\" href=\"community/updates/#release-history\">Release History</a></li>\\n</ul>\\n</div>\\n</section>\\n<section id=\"the-api-documentation-guide\">\\n<h2>The API Documentation / Guide<a class=\"headerlink\" href=\"#the-api-documentation-guide\" title=\"Permalink to this headline\">Â¶</a></h2>\\n<p>If you are looking for information on a specific function, class, or method,\\nthis part of the documentation is for you.</p>\\n<div class=\"toctree-wrapper compound\">\\n<ul>\\n<li class=\"toctree-l1\"><a class=\"reference internal\" href=\"api/\">Developer Interface</a><ul>\\n<li class=\"toctree-l2\"><a class=\"reference internal\" href=\"api/#main-interface\">Main Interface</a></li>\\n<li class=\"toctree-l2\"><a class=\"reference internal\" href=\"api/#exceptions\">Exceptions</a></li>\\n<li class=\"toctree-l2\"><a class=\"reference internal\" href=\"api/#request-sessions\">Request Sessions</a></li>\\n<li class=\"toctree-l2\"><a class=\"reference internal\" href=\"api/#lower-level-classes\">Lower-Level Classes</a></li>\\n<li class=\"toctree-l2\"><a class=\"reference internal\" href=\"api/#lower-lower-level-classes\">Lower-Lower-Level Classes</a></li>\\n<li class=\"toctree-l2\"><a class=\"reference internal\" href=\"api/#authentication\">Authentication</a></li>\\n<li class=\"toctree-l2\"><a class=\"reference internal\" href=\"api/#encodings\">Encodings</a></li>\\n<li class=\"toctree-l2\"><a class=\"reference internal\" href=\"api/#cookies\">Cookies</a></li>\\n<li class=\"toctree-l2\"><a class=\"reference internal\" href=\"api/#status-code-lookup\">Status Code Lookup</a></li>\\n<li class=\"toctree-l2\"><a class=\"reference internal\" href=\"api/#migrating-to-1-x\">Migrating to 1.x</a></li>\\n<li class=\"toctree-l2\"><a class=\"reference internal\" href=\"api/#migrating-to-2-x\">Migrating to 2.x</a></li>\\n</ul>\\n</li>\\n</ul>\\n</div>\\n</section>\\n<section id=\"the-contributor-guide\">\\n<h2>The Contributor Guide<a class=\"headerlink\" href=\"#the-contributor-guide\" title=\"Permalink to this headline\">Â¶</a></h2>\\n<p>If you want to contribute to the project, this part of the documentation is for\\nyou.</p>\\n<div class=\"toctree-wrapper compound\">\\n<ul>\\n<li class=\"toctree-l1\"><a class=\"reference internal\" href=\"dev/contributing/\">Contributorâ\\x80\\x99s Guide</a><ul>\\n<li class=\"toctree-l2\"><a class=\"reference internal\" href=\"dev/contributing/#be-cordial\">Be Cordial</a></li>\\n<li class=\"toctree-l2\"><a class=\"reference internal\" href=\"dev/contributing/#get-early-feedback\">Get Early Feedback</a></li>\\n<li class=\"toctree-l2\"><a class=\"reference internal\" href=\"dev/contributing/#contribution-suitability\">Contribution Suitability</a></li>\\n<li class=\"toctree-l2\"><a class=\"reference internal\" href=\"dev/contributing/#code-contributions\">Code Contributions</a><ul>\\n<li class=\"toctree-l3\"><a class=\"reference internal\" href=\"dev/contributing/#steps-for-submitting-code\">Steps for Submitting Code</a></li>\\n<li class=\"toctree-l3\"><a class=\"reference internal\" href=\"dev/contributing/#code-review\">Code Review</a></li>\\n<li class=\"toctree-l3\"><a class=\"reference internal\" href=\"dev/contributing/#code-style\">Code Style</a></li>\\n<li class=\"toctree-l3\"><a class=\"reference internal\" href=\"dev/contributing/#new-contributors\">New Contributors</a></li>\\n</ul>\\n</li>\\n<li class=\"toctree-l2\"><a class=\"reference internal\" href=\"dev/contributing/#documentation-contributions\">Documentation Contributions</a></li>\\n<li class=\"toctree-l2\"><a class=\"reference internal\" href=\"dev/contributing/#bug-reports\">Bug Reports</a></li>\\n<li class=\"toctree-l2\"><a class=\"reference internal\" href=\"dev/contributing/#feature-requests\">Feature Requests</a></li>\\n</ul>\\n</li>\\n<li class=\"toctree-l1\"><a class=\"reference internal\" href=\"dev/authors/\">Authors</a><ul>\\n<li class=\"toctree-l2\"><a class=\"reference internal\" href=\"dev/authors/#keepers-of-the-crystals\">Keepers of the Crystals</a></li>\\n<li class=\"toctree-l2\"><a class=\"reference internal\" href=\"dev/authors/#previous-keepers-of-crystals\">Previous Keepers of Crystals</a></li>\\n<li class=\"toctree-l2\"><a class=\"reference internal\" href=\"dev/authors/#patches-and-suggestions\">Patches and Suggestions</a></li>\\n</ul>\\n</li>\\n</ul>\\n</div>\\n<p>There are no more guides. You are now guideless.\\nGood luck.</p>\\n</section>\\n</section>\\n\\n\\n          </div>\\n          \\n        </div>\\n      </div>\\n      <div class=\"sphinxsidebar\" role=\"navigation\" aria-label=\"main navigation\">\\n        <div class=\"sphinxsidebarwrapper\"><p class=\"logo\">\\n  <a href=\"#\">\\n    <img class=\"logo\" src=\"_static/requests-sidebar.png\" alt=\"Requests logo\" />\\n  </a>\\n</p>\\n\\n<p>\\n  <iframe src=\"https://ghbtns.com/github-btn.html?user=psf&repo=requests&type=watch&count=true&size=large\"\\n    allowtransparency=\"true\" frameborder=\"0\" scrolling=\"0\" width=\"200px\" height=\"35px\"></iframe>\\n</p>\\n\\n<p>\\n  Requests is an elegant and simple HTTP library for Python, built for\\n  human beings.\\n</p>\\n\\n<h3>Useful Links</h3>\\n<ul>\\n  <li><a href=\"https://requests.readthedocs.io/en/latest/user/quickstart/\">Quickstart</a></li>\\n  <li><a href=\"https://requests.readthedocs.io/en/latest/user/advanced/\">Advanced Usage</a></li>\\n  <li><a href=\"https://requests.readthedocs.io/en/latest/api/\">API Reference</a></li>\\n  <li><a href=\"https://requests.readthedocs.io/en/latest/community/updates/#release-history\">Release History</a></li>\\n  <li><a href=\"https://requests.readthedocs.io/en/latest/dev/contributing/\">Contributors Guide</a></li>\\n\\n  <p></p>\\n\\n  <li><a href=\"https://requests.readthedocs.io/en/latest/community/recommended/\">Recommended Packages and Extensions</a></li>\\n\\n  <p></p>\\n\\n  <li><a href=\"https://github.com/psf/requests\">Requests @ GitHub</a></li>\\n  <li><a href=\"https://pypi.org/project/requests/\">Requests @ PyPI</a></li>\\n  <li><a href=\"https://github.com/psf/requests/issues\">Issue Tracker</a></li>\\n</ul>\\n\\n<div id=\"native-ribbon\">\\n</div>\\n<div id=\"searchbox\" style=\"display: none\" role=\"search\">\\n  <h3 id=\"searchlabel\">Quick search</h3>\\n    <div class=\"searchformwrapper\">\\n    <form class=\"search\" action=\"search/\" method=\"get\">\\n      <input type=\"text\" name=\"q\" aria-labelledby=\"searchlabel\" autocomplete=\"off\" autocorrect=\"off\" autocapitalize=\"off\" spellcheck=\"false\"/>\\n      <input type=\"submit\" value=\"Go\" />\\n    </form>\\n    </div>\\n</div>\\n<script>$(\\'#searchbox\\').show(0);</script><!-- Alabaster (krTheme++) Hacks -->\\n\\n<!-- CSS Adjustments (I\\'m very picky.) -->\\n<style type=\"text/css\">\\n\\n  /* Rezzy requires precise alignment. */\\n  img.logo {margin-left: -20px!important;}\\n\\n  /* \"Quick Search\" should be capitalized. */\\n  div#searchbox h3 {text-transform: capitalize;}\\n\\n  /* Make the document a little wider, less code is cut-off. */\\n  div.document {width: 1008px;}\\n\\n  /* Much-improved spacing around code blocks. */\\n  div.highlight pre {padding: 11px 14px;}\\n\\n  /* Remain Responsive! */\\n  @media screen and (max-width: 1008px) {\\n    div.sphinxsidebar {display: none;}\\n    div.document {width: 100%!important;}\\n\\n    /* Have code blocks escape the document right-margin. */\\n    div.highlight pre {margin-right: -30px;}\\n  }\\n</style>\\n\\n<!-- Native CPC by BuySellAds -->\\n\\n<script type=\"text/javascript\" src=\"//m.servedby-buysellads.com/monetization.js\"></script>\\n\\n<div id=\"native-ribbon\">\\n</div>\\n\\n<script>\\n_bsa.init(\\'custom\\', \\'CK7D62JU\\', \\'placement:pythonrequestsorg\\',\\n    {\\n      target: \\'#native-ribbon\\',\\n      template: `\\n<div class=\"native-sponsor\">Sponsored by ##company## â\\x80\\x94 Learn More</div>\\n  <a href=\"##link##\" class=\"native-flex\">\\n    <style>\\n    #native-ribbon #_custom_ {\\n      background: linear-gradient(-30deg, ##backgroundColor##E5, ##backgroundColor##E5 45%, ##backgroundColor## 45%) #fff;\\n    }\\n\\n    .native-details,\\n    .native-sponsor,\\n    .native-bsa {\\n      color: ##textColor## !important;\\n    }\\n\\n    .native-details:hover {\\n      color: ##textColorHover## !important;\\n    }\\n\\n    .native-cta {\\n      color: ##ctaTextColor##;\\n      background-color: ##ctaBackgroundColor##;\\n    }\\n\\n    .native-cta:hover {\\n      color: ##ctaTextColorHover##;\\n      background-color: ##ctaBackgroundColorHover##;\\n    }\\n    </style>\\n    <div class=\"native-main\">\\n      <img class=\"native-img\" src=\"##logo##\">\\n      <div class=\"native-details\">\\n        <span class=\"native-company\">##title##</span>\\n        <span class=\"native-desc\">##description##</span>\\n      </div>\\n    </div>\\n    <span class=\"native-cta\">##callToAction##</span>\\n  </a>\\n</div>\\n`\\n    }\\n  );\\n</script>\\n        </div>\\n      </div>\\n      <div class=\"clearer\"></div>\\n    </div>\\n    <div class=\"footer\">\\n      &copy;MMXVIX. A <a href=\"https://kenreitz.org/projects\">Kenneth Reitz</a> Project.\\n      \\n    </div>\\n\\n    \\n    <a href=\"https://github.com/requests/requests\" class=\"github\">\\n        <img style=\"position: absolute; top: 0; right: 0; border: 0;\" src=\"https://s3.amazonaws.com/github/ribbons/forkme_right_darkblue_121621.png\" alt=\"Fork me on GitHub\"  class=\"github\"/>\\n    </a>\\n    \\n\\n    \\n  </body>\\n</html>'"
      ]
     },
     "execution_count": 7,
     "metadata": {},
     "output_type": "execute_result"
    }
   ],
   "source": [
    "r.text"
   ]
  },
  {
   "cell_type": "markdown",
   "id": "9d6e7ca8-6640-4ed8-9135-97aeaee9b042",
   "metadata": {},
   "source": [
    "## Encoding of response content from server"
   ]
  },
  {
   "cell_type": "code",
   "execution_count": 8,
   "id": "720c745b-2a80-4eec-8a4e-3af5252d082c",
   "metadata": {},
   "outputs": [
    {
     "data": {
      "text/plain": [
       "'ISO-8859-1'"
      ]
     },
     "execution_count": 8,
     "metadata": {},
     "output_type": "execute_result"
    }
   ],
   "source": [
    "r.encoding"
   ]
  },
  {
   "cell_type": "markdown",
   "id": "b7e0ddde-682d-4a99-95cc-b4304985a16d",
   "metadata": {},
   "source": [
    "## Response Header"
   ]
  },
  {
   "cell_type": "code",
   "execution_count": 9,
   "id": "4818cdd4-fa68-48e7-83f1-9500b2ee383a",
   "metadata": {},
   "outputs": [
    {
     "data": {
      "text/plain": [
       "{'Date': 'Sat, 10 Sep 2022 15:30:56 GMT', 'Content-Type': 'text/html', 'Transfer-Encoding': 'chunked', 'Connection': 'keep-alive', 'Vary': 'Accept-Encoding', 'x-amz-id-2': 'GGiEeWhdUBQr6oWj4gugQp5EVAPEQmK2PmkCf341ogSqiQ++Jcf699vEjPnD7808tdlN0xha8IE=', 'x-amz-request-id': 'R648K596KBWEJ4F3', 'Last-Modified': 'Fri, 09 Sep 2022 19:13:27 GMT', 'ETag': 'W/\"3015d1fa19abcfa62bcd3926c5ee10c8\"', 'X-Served': 'Nginx-Proxito-Sendfile', 'X-Backend': 'web-i-000bfa074f3be4fab', 'X-RTD-Project': 'requests', 'X-RTD-Version': 'latest', 'X-RTD-Path': '/proxito/html/requests/latest/index.html', 'X-RTD-Domain': 'requests.readthedocs.io', 'X-RTD-Version-Method': 'path', 'X-RTD-Project-Method': 'subdomain', 'Referrer-Policy': 'no-referrer-when-downgrade', 'Strict-Transport-Security': 'max-age=31536000; includeSubDomains; preload', 'Content-Encoding': 'gzip', 'CF-Cache-Status': 'REVALIDATED', 'Expires': 'Sun, 11 Sep 2022 15:30:56 GMT', 'Cache-Control': 'public, max-age=86400', 'Server': 'cloudflare', 'CF-RAY': '748935257ee91420-JHB', 'alt-svc': 'h3=\":443\"; ma=86400, h3-29=\":443\"; ma=86400'}"
      ]
     },
     "execution_count": 9,
     "metadata": {},
     "output_type": "execute_result"
    }
   ],
   "source": [
    "r.headers"
   ]
  },
  {
   "cell_type": "code",
   "execution_count": 11,
   "id": "72258786-adf4-4fb8-8754-54171ce04e27",
   "metadata": {},
   "outputs": [
    {
     "data": {
      "text/plain": [
       "'text/html'"
      ]
     },
     "execution_count": 11,
     "metadata": {},
     "output_type": "execute_result"
    }
   ],
   "source": [
    "r.headers[\"Content-Type\"]"
   ]
  },
  {
   "cell_type": "markdown",
   "id": "8aeae5db-892b-4505-abed-305fefffaf98",
   "metadata": {},
   "source": [
    "## Query Parameters"
   ]
  },
  {
   "cell_type": "code",
   "execution_count": 12,
   "id": "f1743ccd-9eaa-4559-8a20-d16628914e8e",
   "metadata": {},
   "outputs": [],
   "source": [
    "params = {\"q\": \"requests\"}\n",
    "\n",
    "r = requests.get(path, params=params)"
   ]
  },
  {
   "cell_type": "code",
   "execution_count": 14,
   "id": "689edc3e-b927-4f88-a2e8-ead4bcf91aa7",
   "metadata": {},
   "outputs": [
    {
     "name": "stdout",
     "output_type": "stream",
     "text": [
      "https://www.google.com/search?q=python&num=1\n"
     ]
    }
   ],
   "source": [
    "def google_search(query, num):\n",
    "    r = requests.get('https://google.com/search', params={\"q\": query, \"num\": num})\n",
    "    return r.url\n",
    "\n",
    "print(google_search(\"python\", 1))"
   ]
  }
 ],
 "metadata": {
  "kernelspec": {
   "display_name": "Python 3 (ipykernel)",
   "language": "python",
   "name": "python3"
  },
  "language_info": {
   "codemirror_mode": {
    "name": "ipython",
    "version": 3
   },
   "file_extension": ".py",
   "mimetype": "text/x-python",
   "name": "python",
   "nbconvert_exporter": "python",
   "pygments_lexer": "ipython3",
   "version": "3.10.0"
  }
 },
 "nbformat": 4,
 "nbformat_minor": 5
}
