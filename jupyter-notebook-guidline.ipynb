{
 "cells": [
  {
   "cell_type": "markdown",
   "id": "be3566f0",
   "metadata": {},
   "source": [
    "## Operations in Jupyter Notebook\n",
    "- Two modes:\n",
    "  1. Command Mode\n",
    "     - When the cell is greyed out\n",
    "     - Press `Esc` to enter command mode\n",
    "  2. Edit Mode\n",
    "     - When the cursor is inside the cell\n",
    "     - All chracters types be be appended into the contents of cell\n",
    "     - Press `Enter` to enter typing mode\n",
    "     \n",
    "- Basic Operations (In Commad Mode Only)\n",
    "  - Add cell above: Press `A`\n",
    "  - Add cell below: Press `B`\n",
    "  - Delete cell: Press `C` twice\n",
    "  - Run cell w/o creating new cell: `Ctrl + Enter`\n",
    "  - Run cell with creating new cell: `Shuft + Enter`\n",
    "  - Convert Markdown cell to Python cell: Press `Y` \n",
    "  - Convert Python cell to Markdown cell: Press `M`\n",
    "  - Undo: Press `Z` "
   ]
  }
 ],
 "metadata": {
  "kernelspec": {
   "display_name": "Python 3 (ipykernel)",
   "language": "python",
   "name": "python3"
  },
  "language_info": {
   "codemirror_mode": {
    "name": "ipython",
    "version": 3
   },
   "file_extension": ".py",
   "mimetype": "text/x-python",
   "name": "python",
   "nbconvert_exporter": "python",
   "pygments_lexer": "ipython3",
   "version": "3.10.0"
  }
 },
 "nbformat": 4,
 "nbformat_minor": 5
}
