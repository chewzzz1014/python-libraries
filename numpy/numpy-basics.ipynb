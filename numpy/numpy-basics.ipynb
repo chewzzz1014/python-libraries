{
 "cells": [
  {
   "cell_type": "code",
   "execution_count": 2,
   "id": "0647247a",
   "metadata": {},
   "outputs": [
    {
     "data": {
      "text/plain": [
       "'1.22.4'"
      ]
     },
     "execution_count": 2,
     "metadata": {},
     "output_type": "execute_result"
    }
   ],
   "source": [
    "import numpy as np\n",
    "numpy.__version__"
   ]
  },
  {
   "cell_type": "markdown",
   "id": "a561c04a",
   "metadata": {},
   "source": [
    "## List -> Array"
   ]
  },
  {
   "cell_type": "code",
   "execution_count": 4,
   "id": "71c6c686",
   "metadata": {},
   "outputs": [
    {
     "data": {
      "text/plain": [
       "array('i', [0, 1, 2, 3, 4, 5, 6, 7, 8, 9])"
      ]
     },
     "execution_count": 4,
     "metadata": {},
     "output_type": "execute_result"
    }
   ],
   "source": [
    "# create dense arrays of uniform type using built-in array module\n",
    "import array\n",
    "L = list(range(10))\n",
    "A = array.array(\"i\", L) # i for integer\n",
    "A"
   ]
  },
  {
   "cell_type": "code",
   "execution_count": 5,
   "id": "1f280a07",
   "metadata": {},
   "outputs": [
    {
     "data": {
      "text/plain": [
       "array([1, 3, 5, 7, 9])"
      ]
     },
     "execution_count": 5,
     "metadata": {},
     "output_type": "execute_result"
    }
   ],
   "source": [
    "# create arrays from Python list\n",
    "np.array([x for x in range(1, 11, 2)])"
   ]
  },
  {
   "cell_type": "code",
   "execution_count": 6,
   "id": "b0c9dd13",
   "metadata": {},
   "outputs": [
    {
     "data": {
      "text/plain": [
       "array([3.14, 2.  , 6.  , 9.  ])"
      ]
     },
     "execution_count": 6,
     "metadata": {},
     "output_type": "execute_result"
    }
   ],
   "source": [
    "# if some elements are of diff data type, np try tii upcast if possible\n",
    "np.array([3.14, 2, 6, 9])"
   ]
  },
  {
   "cell_type": "code",
   "execution_count": 12,
   "id": "f4ee3c72",
   "metadata": {},
   "outputs": [
    {
     "data": {
      "text/plain": [
       "array([[2, 3, 4],\n",
       "       [4, 5, 6],\n",
       "       [6, 7, 8]])"
      ]
     },
     "execution_count": 12,
     "metadata": {},
     "output_type": "execute_result"
    }
   ],
   "source": [
    "# nested list -> mutlidimensional array\n",
    "np.array([range(i, i+3) for i in [2, 4, 6]])"
   ]
  },
  {
   "cell_type": "markdown",
   "id": "0d9e4754",
   "metadata": {},
   "source": [
    "## Creating Array from Scratch"
   ]
  },
  {
   "cell_type": "code",
   "execution_count": 19,
   "id": "c631b02a",
   "metadata": {},
   "outputs": [
    {
     "data": {
      "text/plain": [
       "array([0, 0, 0, 0, 0, 0, 0, 0, 0, 0])"
      ]
     },
     "execution_count": 19,
     "metadata": {},
     "output_type": "execute_result"
    }
   ],
   "source": [
    "np.zeros(10, dtype=int)"
   ]
  },
  {
   "cell_type": "code",
   "execution_count": 20,
   "id": "98d4b233",
   "metadata": {},
   "outputs": [
    {
     "data": {
      "text/plain": [
       "array([[1., 1., 1.],\n",
       "       [1., 1., 1.],\n",
       "       [1., 1., 1.],\n",
       "       [1., 1., 1.],\n",
       "       [1., 1., 1.]])"
      ]
     },
     "execution_count": 20,
     "metadata": {},
     "output_type": "execute_result"
    }
   ],
   "source": [
    "np.ones((5, 3), dtype=float)"
   ]
  },
  {
   "cell_type": "code",
   "execution_count": 21,
   "id": "4569dd62",
   "metadata": {},
   "outputs": [
    {
     "data": {
      "text/plain": [
       "array([[2.45, 2.45, 2.45, 2.45, 2.45, 2.45],\n",
       "       [2.45, 2.45, 2.45, 2.45, 2.45, 2.45],\n",
       "       [2.45, 2.45, 2.45, 2.45, 2.45, 2.45]])"
      ]
     },
     "execution_count": 21,
     "metadata": {},
     "output_type": "execute_result"
    }
   ],
   "source": [
    "# create a (3, 6) array filled w/ 2.45\n",
    "np.full((3, 6), 2.45)"
   ]
  },
  {
   "cell_type": "code",
   "execution_count": 23,
   "id": "4c389602",
   "metadata": {},
   "outputs": [
    {
     "data": {
      "text/plain": [
       "array([  2,   4,   6,   8,  10,  12,  14,  16,  18,  20,  22,  24,  26,\n",
       "        28,  30,  32,  34,  36,  38,  40,  42,  44,  46,  48,  50,  52,\n",
       "        54,  56,  58,  60,  62,  64,  66,  68,  70,  72,  74,  76,  78,\n",
       "        80,  82,  84,  86,  88,  90,  92,  94,  96,  98, 100])"
      ]
     },
     "execution_count": 23,
     "metadata": {},
     "output_type": "execute_result"
    }
   ],
   "source": [
    "# similar to range()\n",
    "np.arange(2, 101, 2)"
   ]
  },
  {
   "cell_type": "code",
   "execution_count": 24,
   "id": "3f04c76a",
   "metadata": {},
   "outputs": [
    {
     "data": {
      "text/plain": [
       "array([0.        , 0.41666667, 0.83333333, 1.25      , 1.66666667,\n",
       "       2.08333333, 2.5       ])"
      ]
     },
     "execution_count": 24,
     "metadata": {},
     "output_type": "execute_result"
    }
   ],
   "source": [
    "# 7 values evenly spaced between 2 numbers\n",
    "np.linspace(0, 2.5, 7)"
   ]
  },
  {
   "cell_type": "code",
   "execution_count": 26,
   "id": "57bbd79a",
   "metadata": {},
   "outputs": [
    {
     "data": {
      "text/plain": [
       "array([[0.21972734, 0.68703754, 0.77050258],\n",
       "       [0.67226234, 0.00675362, 0.02105429],\n",
       "       [0.68409808, 0.54265667, 0.51290517]])"
      ]
     },
     "execution_count": 26,
     "metadata": {},
     "output_type": "execute_result"
    }
   ],
   "source": [
    "# random float values\n",
    "# random method from np.random module\n",
    "np.random.random((3, 3))"
   ]
  },
  {
   "cell_type": "code",
   "execution_count": 27,
   "id": "820d7bff",
   "metadata": {},
   "outputs": [
    {
     "data": {
      "text/plain": [
       "array([[8, 3, 6],\n",
       "       [5, 5, 7],\n",
       "       [2, 4, 3]])"
      ]
     },
     "execution_count": 27,
     "metadata": {},
     "output_type": "execute_result"
    }
   ],
   "source": [
    "# random int values\n",
    "np.random.randint(0, 10, (3, 3))"
   ]
  },
  {
   "cell_type": "code",
   "execution_count": 28,
   "id": "eff2345e",
   "metadata": {},
   "outputs": [
    {
     "data": {
      "text/plain": [
       "array([[1., 0., 0.],\n",
       "       [0., 1., 0.],\n",
       "       [0., 0., 1.]])"
      ]
     },
     "execution_count": 28,
     "metadata": {},
     "output_type": "execute_result"
    }
   ],
   "source": [
    "# create identity matrix\n",
    "np.eye(3)"
   ]
  },
  {
   "cell_type": "code",
   "execution_count": 29,
   "id": "3c5c47c5",
   "metadata": {},
   "outputs": [
    {
     "data": {
      "text/plain": [
       "array([1., 1., 1.])"
      ]
     },
     "execution_count": 29,
     "metadata": {},
     "output_type": "execute_result"
    }
   ],
   "source": [
    "# create uninitialized array of 3 int\n",
    "np.empty(3)"
   ]
  },
  {
   "cell_type": "markdown",
   "id": "6594ea83",
   "metadata": {},
   "source": [
    "## Data Types in Numpy (dtype)\n",
    "- bool_\n",
    "- int_ (default int type; either in int64 or int32)\n",
    "- intc\n",
    "- ontp (int used for indexing)\n",
    "- int8\n",
    "- int16\n",
    "- int32\n",
    "- int64\n",
    "- uint8 (unsigned int8)\n",
    "- uint16\n",
    "- uint32\n",
    "- uint64\n",
    "- float_\n",
    "- float16\n",
    "- float32\n",
    "- float64\n",
    "- complex_\n",
    "- complex64\n",
    "- complex128"
   ]
  },
  {
   "cell_type": "markdown",
   "id": "a593da88",
   "metadata": {},
   "source": [
    "## Categories of Array Manipulation\n",
    "1. Attributes: Size, shape, memory consumption, data types\n",
    "2. Indexing: Getting and setting value of individual array elements\n",
    "3. Slicing: Getting and setting smaller subarray\n",
    "4. Reshaping\n",
    "5. Joining and splitting"
   ]
  },
  {
   "cell_type": "markdown",
   "id": "11773db0",
   "metadata": {},
   "source": [
    "## Attributes"
   ]
  },
  {
   "cell_type": "code",
   "execution_count": 32,
   "id": "b26499fd",
   "metadata": {},
   "outputs": [
    {
     "data": {
      "text/plain": [
       "array([[[9],\n",
       "        [5],\n",
       "        [4]],\n",
       "\n",
       "       [[1],\n",
       "        [4],\n",
       "        [6]],\n",
       "\n",
       "       [[1],\n",
       "        [3],\n",
       "        [4]]])"
      ]
     },
     "execution_count": 32,
     "metadata": {},
     "output_type": "execute_result"
    }
   ],
   "source": [
    "# see for ensuring same random array are generated each time code is run\n",
    "np.random.seed(0)\n",
    "\n",
    "# array of 1D, 2D, 3d\n",
    "d1 = np.random.randint(1, 10, 10)\n",
    "d2 = np.random.randint(1, 10, (2, 5))\n",
    "d3 = np.random.randint(1, 10, (3, 3, 1))"
   ]
  },
  {
   "cell_type": "code",
   "execution_count": 34,
   "id": "1771ebdf",
   "metadata": {},
   "outputs": [
    {
     "name": "stdout",
     "output_type": "stream",
     "text": [
      "3\n",
      "(3, 3, 1)\n",
      "9\n",
      "int32\n"
     ]
    }
   ],
   "source": [
    "# ndim, shape, size, dtype\n",
    "print(d3.ndim)\n",
    "print(d3.shape)\n",
    "print(d3.size)\n",
    "print(d3.dtype)"
   ]
  },
  {
   "cell_type": "markdown",
   "id": "ace21204",
   "metadata": {},
   "source": [
    "## Indexing"
   ]
  },
  {
   "cell_type": "code",
   "execution_count": 38,
   "id": "e1b6412d",
   "metadata": {},
   "outputs": [
    {
     "name": "stdout",
     "output_type": "stream",
     "text": [
      "[[9]\n",
      " [5]\n",
      " [4]]\n",
      "[4]\n"
     ]
    }
   ],
   "source": [
    "print(d3[0])\n",
    "\n",
    "print(d3[0, 2])   # or d3[0][2]"
   ]
  },
  {
   "cell_type": "markdown",
   "id": "1ece06fc",
   "metadata": {},
   "source": [
    "## Slicing"
   ]
  },
  {
   "cell_type": "code",
   "execution_count": 39,
   "id": "5292bd30",
   "metadata": {},
   "outputs": [
    {
     "data": {
      "text/plain": [
       "array([[[9],\n",
       "        [5],\n",
       "        [4]],\n",
       "\n",
       "       [[1],\n",
       "        [3],\n",
       "        [4]]])"
      ]
     },
     "execution_count": 39,
     "metadata": {},
     "output_type": "execute_result"
    }
   ],
   "source": [
    "# x[start:stop:step]\n",
    "d3[::2]"
   ]
  },
  {
   "cell_type": "code",
   "execution_count": 41,
   "id": "0fa4cdc4",
   "metadata": {},
   "outputs": [
    {
     "data": {
      "text/plain": [
       "array([[[1],\n",
       "        [3],\n",
       "        [4]],\n",
       "\n",
       "       [[1],\n",
       "        [4],\n",
       "        [6]],\n",
       "\n",
       "       [[9],\n",
       "        [5],\n",
       "        [4]]])"
      ]
     },
     "execution_count": 41,
     "metadata": {},
     "output_type": "execute_result"
    }
   ],
   "source": [
    "# for negative step, start and end are swapped\n",
    "d3[::-1]"
   ]
  },
  {
   "cell_type": "code",
   "execution_count": 42,
   "id": "ac4c0c2f",
   "metadata": {},
   "outputs": [
    {
     "data": {
      "text/plain": [
       "array([[9],\n",
       "       [1],\n",
       "       [1]])"
      ]
     },
     "execution_count": 42,
     "metadata": {},
     "output_type": "execute_result"
    }
   ],
   "source": [
    "# slicing + indexing\n",
    "d3[:, 0]"
   ]
  },
  {
   "cell_type": "markdown",
   "id": "224c3b01",
   "metadata": {},
   "source": [
    "## Creating a Copy"
   ]
  },
  {
   "cell_type": "code",
   "execution_count": 43,
   "id": "cec9ab5c",
   "metadata": {},
   "outputs": [
    {
     "data": {
      "text/plain": [
       "array([[[9],\n",
       "        [5],\n",
       "        [4]],\n",
       "\n",
       "       [[1],\n",
       "        [4],\n",
       "        [6]],\n",
       "\n",
       "       [[1],\n",
       "        [3],\n",
       "        [4]]])"
      ]
     },
     "execution_count": 43,
     "metadata": {},
     "output_type": "execute_result"
    }
   ],
   "source": [
    "d3.copy()"
   ]
  },
  {
   "cell_type": "markdown",
   "id": "b442892a",
   "metadata": {},
   "source": [
    "## Reshaping"
   ]
  },
  {
   "cell_type": "code",
   "execution_count": 44,
   "id": "6b142fc3",
   "metadata": {},
   "outputs": [
    {
     "data": {
      "text/plain": [
       "array([[1, 2, 3],\n",
       "       [4, 5, 6],\n",
       "       [7, 8, 9]])"
      ]
     },
     "execution_count": 44,
     "metadata": {},
     "output_type": "execute_result"
    }
   ],
   "source": [
    "np.arange(1, 10).reshape(3, 3)"
   ]
  },
  {
   "cell_type": "code",
   "execution_count": 48,
   "id": "62dfb3ce",
   "metadata": {},
   "outputs": [
    {
     "data": {
      "text/plain": [
       "array([[[7, 9, 9, 2, 7]],\n",
       "\n",
       "       [[8, 8, 9, 2, 6]]])"
      ]
     },
     "execution_count": 48,
     "metadata": {},
     "output_type": "execute_result"
    }
   ],
   "source": [
    "# reshaoing with row vector via newaxis\n",
    "d2[:, np.newaxis]"
   ]
  },
  {
   "cell_type": "markdown",
   "id": "463a6deb",
   "metadata": {},
   "source": [
    "## Array Concatenation & Splitting\n",
    "- np.concatenate(arr1, arr2)\n",
    "- np.hstack(): Horizontal Stack\n",
    "- np.vstack(): Vertical Stack"
   ]
  },
  {
   "cell_type": "code",
   "execution_count": 60,
   "id": "24da5879",
   "metadata": {},
   "outputs": [
    {
     "data": {
      "text/plain": [
       "array([[1, 2, 3, 1, 2, 3],\n",
       "       [4, 5, 6, 4, 5, 6]])"
      ]
     },
     "execution_count": 60,
     "metadata": {},
     "output_type": "execute_result"
    }
   ],
   "source": [
    "grid = np.array([[1, 2, 3], [4, 5, 6]])\n",
    "# concat along the second axis\n",
    "np.concatenate([grid, grid], axis=1)"
   ]
  },
  {
   "cell_type": "code",
   "execution_count": 68,
   "id": "be03c17e",
   "metadata": {},
   "outputs": [
    {
     "data": {
      "text/plain": [
       "array([[1, 2, 3],\n",
       "       [9, 8, 7],\n",
       "       [6, 5, 4]])"
      ]
     },
     "execution_count": 68,
     "metadata": {},
     "output_type": "execute_result"
    }
   ],
   "source": [
    "# concat mixed dimensions\n",
    "\n",
    "# vertical stack \n",
    "'''\n",
    "        [x]\n",
    "        \n",
    "        ^\n",
    "        |\n",
    "        |\n",
    "        |\n",
    "        \n",
    "       [grid]\n",
    "'''\n",
    "x = np.array([1, 2, 3])\n",
    "grid = np.array([[9, 8, 7], [6, 5, 4]])\n",
    "np.vstack([x, grid])"
   ]
  },
  {
   "cell_type": "code",
   "execution_count": 67,
   "id": "4dd81b0d",
   "metadata": {},
   "outputs": [
    {
     "data": {
      "text/plain": [
       "array([[99,  9,  8,  7],\n",
       "       [99,  6,  5,  4]])"
      ]
     },
     "execution_count": 67,
     "metadata": {},
     "output_type": "execute_result"
    }
   ],
   "source": [
    "# concat mixed dimensions\n",
    "\n",
    "# horizontal stack\n",
    "'''\n",
    "\n",
    "[y] <----------- [gr]\n",
    "'''\n",
    "y = np.array([[99], [99]])\n",
    "grid = np.array([[9, 8, 7], [6, 5, 4]])\n",
    "np.hstack([y, grid])"
   ]
  }
 ],
 "metadata": {
  "kernelspec": {
   "display_name": "Python 3 (ipykernel)",
   "language": "python",
   "name": "python3"
  },
  "language_info": {
   "codemirror_mode": {
    "name": "ipython",
    "version": 3
   },
   "file_extension": ".py",
   "mimetype": "text/x-python",
   "name": "python",
   "nbconvert_exporter": "python",
   "pygments_lexer": "ipython3",
   "version": "3.10.0"
  }
 },
 "nbformat": 4,
 "nbformat_minor": 5
}
