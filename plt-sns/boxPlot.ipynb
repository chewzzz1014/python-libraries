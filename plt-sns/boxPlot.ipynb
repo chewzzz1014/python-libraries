{
 "cells": [
  {
   "cell_type": "markdown",
   "id": "a54e9511",
   "metadata": {},
   "source": [
    "## Box Plot\n",
    "- shows the distribution of data along a single axis, using a \"box\" and \"whiskers\"\n",
    "- The lower end of the box represents the 1st quartile (i.e. 25% of values are below it), and the upper end of the box represents the 3rd quartile (i.e. 25% of values are above it).\n",
    "- The median value is represented via a line inside the box.\n",
    "- The \"whiskers\" represent the minimum & maximum values (sometimes excluding outliers, which are represented as dots)"
   ]
  },
  {
   "cell_type": "code",
   "execution_count": 2,
   "id": "a2739073",
   "metadata": {},
   "outputs": [],
   "source": [
    "import seaborn as sns\n",
    "import matplotlib.pyplot as plt\n",
    "%matplotlib inline"
   ]
  },
  {
   "cell_type": "code",
   "execution_count": 3,
   "id": "53254f5f",
   "metadata": {},
   "outputs": [
    {
     "name": "stderr",
     "output_type": "stream",
     "text": [
      "C:\\Users\\USER\\AppData\\Local\\Programs\\Python\\Python310\\lib\\site-packages\\seaborn\\_decorators.py:36: FutureWarning: Pass the following variables as keyword args: x, y. From version 0.12, the only valid positional argument will be `data`, and passing other arguments without an explicit keyword will result in an error or misinterpretation.\n",
      "  warnings.warn(\n"
     ]
    },
    {
     "data": {
      "image/png": "[encoded data removed]",
      "text/plain": [
       "<Figure size 432x288 with 1 Axes>"
      ]
     },
     "metadata": {
      "needs_background": "light"
     },
     "output_type": "display_data"
    }
   ],
   "source": [
    "tips = sns.load_dataset(\"tips\")\n",
    "\n",
    "plt.title(\"Daily Total Bill\")\n",
    "\n",
    "sns.boxplot(tips.day, tips.total_bill, hue=tips.smoker);"
   ]
  }
 ],
 "metadata": {
  "kernelspec": {
   "display_name": "Python 3 (ipykernel)",
   "language": "python",
   "name": "python3"
  },
  "language_info": {
   "codemirror_mode": {
    "name": "ipython",
    "version": 3
   },
   "file_extension": ".py",
   "mimetype": "text/x-python",
   "name": "python",
   "nbconvert_exporter": "python",
   "pygments_lexer": "ipython3",
   "version": "3.10.0"
  }
 },
 "nbformat": 4,
 "nbformat_minor": 5
}
